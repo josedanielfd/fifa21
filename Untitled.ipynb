{
 "cells": [
  {
   "cell_type": "code",
   "execution_count": 1,
   "metadata": {},
   "outputs": [
    {
     "data": {
      "text/plain": [
       "<module 'utils.futbin_scrapper' from '/Users/cognistx2019/Documents/GitHub/fifa21/utils/futbin_scrapper.py'>"
      ]
     },
     "execution_count": 1,
     "metadata": {},
     "output_type": "execute_result"
    }
   ],
   "source": [
    "from utils import futbin_scrapper\n",
    "from importlib import reload\n",
    "reload(futbin_scrapper)"
   ]
  },
  {
   "cell_type": "code",
   "execution_count": 5,
   "metadata": {},
   "outputs": [
    {
     "data": {
      "text/plain": [
       "'/Users/cognistx2019/Documents/GitHub/fifa21'"
      ]
     },
     "execution_count": 5,
     "metadata": {},
     "output_type": "execute_result"
    }
   ],
   "source": [
    "pwd"
   ]
  },
  {
   "cell_type": "code",
   "execution_count": 6,
   "metadata": {},
   "outputs": [
    {
     "name": "stdout",
     "output_type": "stream",
     "text": [
      "/Users/cognistx2019/Documents/GitHub/fifa21/src\n"
     ]
    }
   ],
   "source": [
    "%cd '/Users/cognistx2019/Documents/GitHub/fifa21/src'"
   ]
  },
  {
   "cell_type": "code",
   "execution_count": 3,
   "metadata": {},
   "outputs": [],
   "source": [
    "!export PYTHONPATH='/Users/cognistx2019/Documents/GitHub/fifa21/'"
   ]
  },
  {
   "cell_type": "code",
   "execution_count": 7,
   "metadata": {},
   "outputs": [
    {
     "name": "stdout",
     "output_type": "stream",
     "text": [
      "Number of pages to be parsed for FIFA  21 is 4 Pages\n",
      "Page:  1\n",
      "Page:  2\n",
      "Page:  3\n",
      "Page:  4\n",
      "Futbin Saved at:  ../data/FutBinCards21_2020_11_22.csv\n"
     ]
    }
   ],
   "source": [
    "futbin_scrapper.get_futbin_data()"
   ]
  },
  {
   "cell_type": "code",
   "execution_count": null,
   "metadata": {},
   "outputs": [],
   "source": []
  }
 ],
 "metadata": {
  "kernelspec": {
   "display_name": "Python [conda env:agrotech] *",
   "language": "python",
   "name": "conda-env-agrotech-py"
  },
  "language_info": {
   "codemirror_mode": {
    "name": "ipython",
    "version": 3
   },
   "file_extension": ".py",
   "mimetype": "text/x-python",
   "name": "python",
   "nbconvert_exporter": "python",
   "pygments_lexer": "ipython3",
   "version": "3.8.3"
  }
 },
 "nbformat": 4,
 "nbformat_minor": 4
}
